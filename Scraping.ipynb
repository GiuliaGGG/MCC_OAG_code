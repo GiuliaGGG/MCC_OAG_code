{
 "cells": [
  {
   "cell_type": "code",
   "execution_count": 16,
   "id": "acac2407-4bcc-43f6-896f-2bef21c02e13",
   "metadata": {},
   "outputs": [
    {
     "name": "stdout",
     "output_type": "stream",
     "text": [
      "Requirement already satisfied: beautifulsoup4 in c:\\users\\giulia maria\\miniconda3\\envs\\mcc\\lib\\site-packages (4.12.3)\n",
      "Requirement already satisfied: soupsieve>1.2 in c:\\users\\giulia maria\\miniconda3\\envs\\mcc\\lib\\site-packages (from beautifulsoup4) (2.5)\n"
     ]
    }
   ],
   "source": [
    "# Install selenium for browser automation\n",
    "#pip install selenium \n",
    "\n",
    "# Install beautifulsoup4 for parsing HTML and XML documents\n",
    "#pip install beautifulsoup4\n",
    "\n",
    "# Install requests for making HTTP requests\n",
    "#pip install requests\n"
   ]
  },
  {
   "cell_type": "code",
   "execution_count": 18,
   "id": "68de902d-ae8b-48f4-97b2-cfb0f31310aa",
   "metadata": {},
   "outputs": [],
   "source": [
    "import selenium\n",
    "import time \n",
    "#from beautifulsoup import \n",
    "import requests"
   ]
  },
  {
   "cell_type": "code",
   "execution_count": 5,
   "id": "cd7f5586-3def-409d-b488-92212b57a351",
   "metadata": {},
   "outputs": [
    {
     "ename": "ModuleNotFoundError",
     "evalue": "No module named 'selenium'",
     "output_type": "error",
     "traceback": [
      "\u001b[1;31m---------------------------------------------------------------------------\u001b[0m",
      "\u001b[1;31mModuleNotFoundError\u001b[0m                       Traceback (most recent call last)",
      "Cell \u001b[1;32mIn[5], line 5\u001b[0m\n\u001b[0;32m      1\u001b[0m \u001b[38;5;66;03m# Step 2: Install Required Libraries\u001b[39;00m\n\u001b[0;32m      2\u001b[0m \n\u001b[0;32m      3\u001b[0m \n\u001b[0;32m      4\u001b[0m \u001b[38;5;66;03m# Step 3: Set Up Web Driver\u001b[39;00m\n\u001b[1;32m----> 5\u001b[0m \u001b[38;5;28;01mfrom\u001b[39;00m \u001b[38;5;21;01mselenium\u001b[39;00m \u001b[38;5;28;01mimport\u001b[39;00m webdriver\n\u001b[0;32m      7\u001b[0m driver \u001b[38;5;241m=\u001b[39m webdriver\u001b[38;5;241m.\u001b[39mChrome(\u001b[38;5;124m'\u001b[39m\u001b[38;5;124m/path/to/chromedriver\u001b[39m\u001b[38;5;124m'\u001b[39m)  \u001b[38;5;66;03m# Update the path to your Chromedriver\u001b[39;00m\n",
      "\u001b[1;31mModuleNotFoundError\u001b[0m: No module named 'selenium'"
     ]
    }
   ],
   "source": [
    "# Step 3: Set Up Web Driver\n",
    "from selenium import webdriver\n",
    "\n",
    "driver = webdriver.Chrome('/path/to/chromedriver')  # Update the path to your Chromedriver"
   ]
  },
  {
   "cell_type": "code",
   "execution_count": null,
   "id": "119347d2-577e-4b24-9429-95b9c19e7ad1",
   "metadata": {},
   "outputs": [],
   "source": [
    "# Step 4: Navigate to the Website\n",
    "driver.get('https://www.skyscanner.net')\n",
    "\n",
    "# The following steps would involve finding the input elements for the 'From' and 'After' fields,\n",
    "# inputting the city names, initiating the search, and then interacting with the search results.\n",
    "# This would be specific to the HTML structure and JavaScript of Skyscanner's website.\n"
   ]
  }
 ],
 "metadata": {
  "kernelspec": {
   "display_name": "Python 3 (ipykernel)",
   "language": "python",
   "name": "python3"
  },
  "language_info": {
   "codemirror_mode": {
    "name": "ipython",
    "version": 3
   },
   "file_extension": ".py",
   "mimetype": "text/x-python",
   "name": "python",
   "nbconvert_exporter": "python",
   "pygments_lexer": "ipython3",
   "version": "3.11.8"
  }
 },
 "nbformat": 4,
 "nbformat_minor": 5
}
