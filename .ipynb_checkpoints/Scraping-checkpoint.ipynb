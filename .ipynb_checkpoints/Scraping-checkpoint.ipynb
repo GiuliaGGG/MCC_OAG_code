{
 "cells": [
  {
   "cell_type": "code",
   "execution_count": 7,
   "id": "acac2407-4bcc-43f6-896f-2bef21c02e13",
   "metadata": {},
   "outputs": [],
   "source": [
    "from bs4 import BeautifulSoup\n",
    "import requests\n",
    "from selenium import webdriver\n",
    "from selenium.webdriver.chrome.service import Service\n",
    "from selenium.webdriver.chrome.options import Options\n",
    "from selenium.webdriver.support.ui import Select\n",
    "from selenium.webdriver.common.by import By\n",
    "from selenium.webdriver.support.ui import WebDriverWait\n",
    "from selenium.webdriver.support import expected_conditions as EC\n",
    "import time"
   ]
  },
  {
   "cell_type": "code",
   "execution_count": 4,
   "id": "cd7f5586-3def-409d-b488-92212b57a351",
   "metadata": {},
   "outputs": [],
   "source": [
    "# path where I have saved chromedriver\n",
    "chromedriver_path = 'C:\\webdrivers\\chromedriver-win64'"
   ]
  },
  {
   "cell_type": "code",
   "execution_count": 6,
   "id": "1b6109f3-9f9f-432e-a177-6a2825581b93",
   "metadata": {},
   "outputs": [],
   "source": [
    "# Set up Chrome options (optional, depending on your requirements)\n",
    "chrome_options = Options()\n",
    "# For example, you can set the browser to headless mode (without GUI)\n",
    "# chrome_options.add_argument(\"--headless\")\n",
    "\n",
    "# Create a Service object pointing to the path of chromedriver\n",
    "service = Service(executable_path=chromedriver_path)\n",
    "\n",
    "# Create a new instance of the Chrome driver\n",
    "#driver = webdriver.Chrome(service=service, options=chrome_options)"
   ]
  }
 ],
 "metadata": {
  "kernelspec": {
   "display_name": "Python 3 (ipykernel)",
   "language": "python",
   "name": "python3"
  },
  "language_info": {
   "codemirror_mode": {
    "name": "ipython",
    "version": 3
   },
   "file_extension": ".py",
   "mimetype": "text/x-python",
   "name": "python",
   "nbconvert_exporter": "python",
   "pygments_lexer": "ipython3",
   "version": "3.11.8"
  }
 },
 "nbformat": 4,
 "nbformat_minor": 5
}
